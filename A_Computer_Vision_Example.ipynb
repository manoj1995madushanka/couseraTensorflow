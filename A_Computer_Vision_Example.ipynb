{
  "nbformat": 4,
  "nbformat_minor": 0,
  "metadata": {
    "colab": {
      "name": "A Computer Vision Example.ipynb",
      "version": "0.3.2",
      "provenance": [],
      "include_colab_link": true
    },
    "kernelspec": {
      "name": "python3",
      "display_name": "Python 3"
    }
  },
  "cells": [
    {
      "cell_type": "markdown",
      "metadata": {
        "id": "view-in-github",
        "colab_type": "text"
      },
      "source": [
        "<a href=\"https://colab.research.google.com/github/manoj1995madushanka/couseraTensorflow/blob/master/A_Computer_Vision_Example.ipynb\" target=\"_parent\"><img src=\"https://colab.research.google.com/assets/colab-badge.svg\" alt=\"Open In Colab\"/></a>"
      ]
    },
    {
      "cell_type": "markdown",
      "metadata": {
        "id": "FdXa8jj944cm",
        "colab_type": "text"
      },
      "source": [
        "emport what we need"
      ]
    },
    {
      "cell_type": "code",
      "metadata": {
        "id": "On0EFRwaroYW",
        "colab_type": "code",
        "colab": {
          "base_uri": "https://localhost:8080/",
          "height": 34
        },
        "outputId": "0e386ffc-a95f-4ab5-e03a-60157c85955f"
      },
      "source": [
        "import tensorflow as tf\n",
        "print(tf.__version__)"
      ],
      "execution_count": 2,
      "outputs": [
        {
          "output_type": "stream",
          "text": [
            "1.13.1\n"
          ],
          "name": "stdout"
        }
      ]
    },
    {
      "cell_type": "markdown",
      "metadata": {
        "id": "vhNDAGVl5Cp3",
        "colab_type": "text"
      },
      "source": [
        "import Fashion MNIST data from keras directly"
      ]
    },
    {
      "cell_type": "code",
      "metadata": {
        "id": "DBxHvYA75HCe",
        "colab_type": "code",
        "colab": {}
      },
      "source": [
        "mnist = tf.keras.datasets.fashion_mnist"
      ],
      "execution_count": 0,
      "outputs": []
    },
    {
      "cell_type": "markdown",
      "metadata": {
        "id": "LJJVcYMj5TlN",
        "colab_type": "text"
      },
      "source": [
        "mnist contain two sets of data then loadthat two sets"
      ]
    },
    {
      "cell_type": "code",
      "metadata": {
        "id": "h-mbBJgH7iO1",
        "colab_type": "code",
        "colab": {
          "base_uri": "https://localhost:8080/",
          "height": 173
        },
        "outputId": "890db796-62c6-478f-d3f8-1e3ff843bc7a"
      },
      "source": [
        "(training_images, training_labels),(test_images,test_labels) = mnist.load_data()"
      ],
      "execution_count": 4,
      "outputs": [
        {
          "output_type": "stream",
          "text": [
            "Downloading data from https://storage.googleapis.com/tensorflow/tf-keras-datasets/train-labels-idx1-ubyte.gz\n",
            "32768/29515 [=================================] - 0s 0us/step\n",
            "Downloading data from https://storage.googleapis.com/tensorflow/tf-keras-datasets/train-images-idx3-ubyte.gz\n",
            "26427392/26421880 [==============================] - 0s 0us/step\n",
            "Downloading data from https://storage.googleapis.com/tensorflow/tf-keras-datasets/t10k-labels-idx1-ubyte.gz\n",
            "8192/5148 [===============================================] - 0s 0us/step\n",
            "Downloading data from https://storage.googleapis.com/tensorflow/tf-keras-datasets/t10k-images-idx3-ubyte.gz\n",
            "4423680/4422102 [==============================] - 0s 0us/step\n"
          ],
          "name": "stdout"
        }
      ]
    },
    {
      "cell_type": "markdown",
      "metadata": {
        "id": "KugM6Jw48Ejl",
        "colab_type": "text"
      },
      "source": [
        "then try to print out training image"
      ]
    },
    {
      "cell_type": "code",
      "metadata": {
        "id": "-BmM-ChS8NCU",
        "colab_type": "code",
        "colab": {
          "base_uri": "https://localhost:8080/",
          "height": 1238
        },
        "outputId": "e1063dad-a519-4f6e-d8a2-094b3b2609b1"
      },
      "source": [
        "import matplotlib.pyplot as plt\n",
        "plt.imshow(training_images[0])\n",
        "print(\"training label = \",training_labels[0])\n",
        "print(\"training image = \",training_images[0])"
      ],
      "execution_count": 6,
      "outputs": [
        {
          "output_type": "stream",
          "text": [
            "training label =  9\n",
            "training image =  [[  0   0   0   0   0   0   0   0   0   0   0   0   0   0   0   0   0   0\n",
            "    0   0   0   0   0   0   0   0   0   0]\n",
            " [  0   0   0   0   0   0   0   0   0   0   0   0   0   0   0   0   0   0\n",
            "    0   0   0   0   0   0   0   0   0   0]\n",
            " [  0   0   0   0   0   0   0   0   0   0   0   0   0   0   0   0   0   0\n",
            "    0   0   0   0   0   0   0   0   0   0]\n",
            " [  0   0   0   0   0   0   0   0   0   0   0   0   1   0   0  13  73   0\n",
            "    0   1   4   0   0   0   0   1   1   0]\n",
            " [  0   0   0   0   0   0   0   0   0   0   0   0   3   0  36 136 127  62\n",
            "   54   0   0   0   1   3   4   0   0   3]\n",
            " [  0   0   0   0   0   0   0   0   0   0   0   0   6   0 102 204 176 134\n",
            "  144 123  23   0   0   0   0  12  10   0]\n",
            " [  0   0   0   0   0   0   0   0   0   0   0   0   0   0 155 236 207 178\n",
            "  107 156 161 109  64  23  77 130  72  15]\n",
            " [  0   0   0   0   0   0   0   0   0   0   0   1   0  69 207 223 218 216\n",
            "  216 163 127 121 122 146 141  88 172  66]\n",
            " [  0   0   0   0   0   0   0   0   0   1   1   1   0 200 232 232 233 229\n",
            "  223 223 215 213 164 127 123 196 229   0]\n",
            " [  0   0   0   0   0   0   0   0   0   0   0   0   0 183 225 216 223 228\n",
            "  235 227 224 222 224 221 223 245 173   0]\n",
            " [  0   0   0   0   0   0   0   0   0   0   0   0   0 193 228 218 213 198\n",
            "  180 212 210 211 213 223 220 243 202   0]\n",
            " [  0   0   0   0   0   0   0   0   0   1   3   0  12 219 220 212 218 192\n",
            "  169 227 208 218 224 212 226 197 209  52]\n",
            " [  0   0   0   0   0   0   0   0   0   0   6   0  99 244 222 220 218 203\n",
            "  198 221 215 213 222 220 245 119 167  56]\n",
            " [  0   0   0   0   0   0   0   0   0   4   0   0  55 236 228 230 228 240\n",
            "  232 213 218 223 234 217 217 209  92   0]\n",
            " [  0   0   1   4   6   7   2   0   0   0   0   0 237 226 217 223 222 219\n",
            "  222 221 216 223 229 215 218 255  77   0]\n",
            " [  0   3   0   0   0   0   0   0   0  62 145 204 228 207 213 221 218 208\n",
            "  211 218 224 223 219 215 224 244 159   0]\n",
            " [  0   0   0   0  18  44  82 107 189 228 220 222 217 226 200 205 211 230\n",
            "  224 234 176 188 250 248 233 238 215   0]\n",
            " [  0  57 187 208 224 221 224 208 204 214 208 209 200 159 245 193 206 223\n",
            "  255 255 221 234 221 211 220 232 246   0]\n",
            " [  3 202 228 224 221 211 211 214 205 205 205 220 240  80 150 255 229 221\n",
            "  188 154 191 210 204 209 222 228 225   0]\n",
            " [ 98 233 198 210 222 229 229 234 249 220 194 215 217 241  65  73 106 117\n",
            "  168 219 221 215 217 223 223 224 229  29]\n",
            " [ 75 204 212 204 193 205 211 225 216 185 197 206 198 213 240 195 227 245\n",
            "  239 223 218 212 209 222 220 221 230  67]\n",
            " [ 48 203 183 194 213 197 185 190 194 192 202 214 219 221 220 236 225 216\n",
            "  199 206 186 181 177 172 181 205 206 115]\n",
            " [  0 122 219 193 179 171 183 196 204 210 213 207 211 210 200 196 194 191\n",
            "  195 191 198 192 176 156 167 177 210  92]\n",
            " [  0   0  74 189 212 191 175 172 175 181 185 188 189 188 193 198 204 209\n",
            "  210 210 211 188 188 194 192 216 170   0]\n",
            " [  2   0   0   0  66 200 222 237 239 242 246 243 244 221 220 193 191 179\n",
            "  182 182 181 176 166 168  99  58   0   0]\n",
            " [  0   0   0   0   0   0   0  40  61  44  72  41  35   0   0   0   0   0\n",
            "    0   0   0   0   0   0   0   0   0   0]\n",
            " [  0   0   0   0   0   0   0   0   0   0   0   0   0   0   0   0   0   0\n",
            "    0   0   0   0   0   0   0   0   0   0]\n",
            " [  0   0   0   0   0   0   0   0   0   0   0   0   0   0   0   0   0   0\n",
            "    0   0   0   0   0   0   0   0   0   0]]\n"
          ],
          "name": "stdout"
        },
        {
          "output_type": "display_data",
          "data": {
            "image/png": "[encoded data removed]",
            "text/plain": [
              "<Figure size 432x288 with 1 Axes>"
            ]
          },
          "metadata": {
            "tags": []
          }
        }
      ]
    },
    {
      "cell_type": "markdown",
      "metadata": {
        "id": "uW4g3K3J-Fs0",
        "colab_type": "text"
      },
      "source": [
        "each value has a range 0-255 for train neural network we are easy to convert that range to 0-1 in python we can do htis without looing ( process called normalizing )"
      ]
    },
    {
      "cell_type": "code",
      "metadata": {
        "id": "QakI-Caq-pAE",
        "colab_type": "code",
        "colab": {}
      },
      "source": [
        "training_images = training_images / 255.0\n",
        "test_images = test_images / 255.0"
      ],
      "execution_count": 0,
      "outputs": []
    },
    {
      "cell_type": "markdown",
      "metadata": {
        "id": "YNM0wbR2-4cL",
        "colab_type": "text"
      },
      "source": [
        "now we define model"
      ]
    },
    {
      "cell_type": "code",
      "metadata": {
        "id": "7qfFQM41_EnM",
        "colab_type": "code",
        "colab": {}
      },
      "source": [
        "model = tf.keras.models.Sequential([tf.keras.layers.Flatten(),tf.keras.layers.Dense(128,activation=tf.nn.relu),tf.keras.layers.Dense(10,activation=tf.nn.softmax)])"
      ],
      "execution_count": 0,
      "outputs": []
    },
    {
      "cell_type": "markdown",
      "metadata": {
        "id": "YoF78z0T_7Gr",
        "colab_type": "text"
      },
      "source": [
        "**Sequential:** That defines a SEQUENCE of layers in the neural network\n",
        "\n",
        "**Flatten**: Remember earlier where our images were a square, when you printed them out? Flatten just takes that square and turns it into a 1 dimensional set.\n",
        "\n",
        "**Dense**: Adds a layer of neurons\n",
        "\n",
        "Each layer of neurons need an activation function to tell them what to do. There's lots of options, but just use these for now.\n",
        "\n",
        "**Relu** effectively means \"If X>0 return X, else return 0\" -- so what it does it it only passes values 0 or greater to the next layer in the network.\n",
        "\n",
        "**Softmax** takes a set of values, and effectively picks the biggest one, so, for example, if the output of the last layer looks like [0.1, 0.1, 0.05, 0.1, 9.5, 0.1, 0.05, 0.05, 0.05], it saves you from fishing through it looking for the biggest value, and turns it into [0,0,0,0,1,0,0,0,0] -- The goal is to save a lot of coding"
      ]
    },
    {
      "cell_type": "markdown",
      "metadata": {
        "id": "CsCj8n5RA1Z6",
        "colab_type": "text"
      },
      "source": [
        "now we compile our model with optimizer and loss function"
      ]
    },
    {
      "cell_type": "code",
      "metadata": {
        "id": "2idshQ5dAJub",
        "colab_type": "code",
        "colab": {
          "base_uri": "https://localhost:8080/",
          "height": 88
        },
        "outputId": "32cb501e-2bd1-42b7-a29f-ee8ec608f539"
      },
      "source": [
        "model.compile(optimizer = tf.train.AdamOptimizer(),loss = 'sparse_categorical_crossentropy',metrics=['accuracy'])"
      ],
      "execution_count": 10,
      "outputs": [
        {
          "output_type": "stream",
          "text": [
            "WARNING:tensorflow:From /usr/local/lib/python3.6/dist-packages/tensorflow/python/ops/resource_variable_ops.py:435: colocate_with (from tensorflow.python.framework.ops) is deprecated and will be removed in a future version.\n",
            "Instructions for updating:\n",
            "Colocations handled automatically by placer.\n"
          ],
          "name": "stdout"
        }
      ]
    },
    {
      "cell_type": "code",
      "metadata": {
        "id": "5EMtROJcBlGT",
        "colab_type": "code",
        "colab": {
          "base_uri": "https://localhost:8080/",
          "height": 1734
        },
        "outputId": "fe629256-f144-41df-9098-90088f7e4bf2"
      },
      "source": [
        "model.fit(training_images, training_labels, epochs=50)"
      ],
      "execution_count": 13,
      "outputs": [
        {
          "output_type": "stream",
          "text": [
            "Epoch 1/50\n",
            "60000/60000 [==============================] - 5s 77us/sample - loss: 0.2800 - acc: 0.8953\n",
            "Epoch 2/50\n",
            "60000/60000 [==============================] - 4s 73us/sample - loss: 0.2670 - acc: 0.9010\n",
            "Epoch 3/50\n",
            "60000/60000 [==============================] - 4s 73us/sample - loss: 0.2561 - acc: 0.9048\n",
            "Epoch 4/50\n",
            "60000/60000 [==============================] - 4s 75us/sample - loss: 0.2478 - acc: 0.9071\n",
            "Epoch 5/50\n",
            "60000/60000 [==============================] - 5s 79us/sample - loss: 0.2364 - acc: 0.9106\n",
            "Epoch 6/50\n",
            "60000/60000 [==============================] - 5s 82us/sample - loss: 0.2296 - acc: 0.9153\n",
            "Epoch 7/50\n",
            "60000/60000 [==============================] - 5s 81us/sample - loss: 0.2227 - acc: 0.9164\n",
            "Epoch 8/50\n",
            "60000/60000 [==============================] - 5s 76us/sample - loss: 0.2167 - acc: 0.9187\n",
            "Epoch 9/50\n",
            "60000/60000 [==============================] - 5s 77us/sample - loss: 0.2101 - acc: 0.9213\n",
            "Epoch 10/50\n",
            "60000/60000 [==============================] - 5s 80us/sample - loss: 0.2030 - acc: 0.9237\n",
            "Epoch 11/50\n",
            "60000/60000 [==============================] - 5s 79us/sample - loss: 0.1961 - acc: 0.9268\n",
            "Epoch 12/50\n",
            "60000/60000 [==============================] - 5s 76us/sample - loss: 0.1922 - acc: 0.9275\n",
            "Epoch 13/50\n",
            "60000/60000 [==============================] - 4s 75us/sample - loss: 0.1889 - acc: 0.9285\n",
            "Epoch 14/50\n",
            "60000/60000 [==============================] - 4s 74us/sample - loss: 0.1811 - acc: 0.9310\n",
            "Epoch 15/50\n",
            "60000/60000 [==============================] - 5s 75us/sample - loss: 0.1770 - acc: 0.9334\n",
            "Epoch 16/50\n",
            "60000/60000 [==============================] - 4s 74us/sample - loss: 0.1750 - acc: 0.9341\n",
            "Epoch 17/50\n",
            "60000/60000 [==============================] - 4s 74us/sample - loss: 0.1696 - acc: 0.9361\n",
            "Epoch 18/50\n",
            "60000/60000 [==============================] - 4s 75us/sample - loss: 0.1660 - acc: 0.9390\n",
            "Epoch 19/50\n",
            "60000/60000 [==============================] - 4s 75us/sample - loss: 0.1616 - acc: 0.9402\n",
            "Epoch 20/50\n",
            "60000/60000 [==============================] - 4s 74us/sample - loss: 0.1582 - acc: 0.9410\n",
            "Epoch 21/50\n",
            "60000/60000 [==============================] - 4s 75us/sample - loss: 0.1532 - acc: 0.9426\n",
            "Epoch 22/50\n",
            "60000/60000 [==============================] - 4s 75us/sample - loss: 0.1496 - acc: 0.9433\n",
            "Epoch 23/50\n",
            "60000/60000 [==============================] - 5s 75us/sample - loss: 0.1469 - acc: 0.9462\n",
            "Epoch 24/50\n",
            "60000/60000 [==============================] - 4s 75us/sample - loss: 0.1447 - acc: 0.9465\n",
            "Epoch 25/50\n",
            "60000/60000 [==============================] - 4s 73us/sample - loss: 0.1411 - acc: 0.9457\n",
            "Epoch 26/50\n",
            "60000/60000 [==============================] - 5s 86us/sample - loss: 0.1387 - acc: 0.9482\n",
            "Epoch 27/50\n",
            "60000/60000 [==============================] - 5s 86us/sample - loss: 0.1380 - acc: 0.9487\n",
            "Epoch 28/50\n",
            "60000/60000 [==============================] - 5s 86us/sample - loss: 0.1334 - acc: 0.9499\n",
            "Epoch 29/50\n",
            "60000/60000 [==============================] - 5s 85us/sample - loss: 0.1321 - acc: 0.9512\n",
            "Epoch 30/50\n",
            "60000/60000 [==============================] - 5s 85us/sample - loss: 0.1283 - acc: 0.9520\n",
            "Epoch 31/50\n",
            "60000/60000 [==============================] - 5s 84us/sample - loss: 0.1257 - acc: 0.9534\n",
            "Epoch 32/50\n",
            "60000/60000 [==============================] - 5s 86us/sample - loss: 0.1238 - acc: 0.9537\n",
            "Epoch 33/50\n",
            "60000/60000 [==============================] - 5s 86us/sample - loss: 0.1198 - acc: 0.9557\n",
            "Epoch 34/50\n",
            "60000/60000 [==============================] - 5s 84us/sample - loss: 0.1184 - acc: 0.9559\n",
            "Epoch 35/50\n",
            "60000/60000 [==============================] - 5s 85us/sample - loss: 0.1151 - acc: 0.9571\n",
            "Epoch 36/50\n",
            "60000/60000 [==============================] - 5s 84us/sample - loss: 0.1144 - acc: 0.9570\n",
            "Epoch 37/50\n",
            "60000/60000 [==============================] - 5s 84us/sample - loss: 0.1123 - acc: 0.9581\n",
            "Epoch 38/50\n",
            "60000/60000 [==============================] - 5s 82us/sample - loss: 0.1101 - acc: 0.9594\n",
            "Epoch 39/50\n",
            "60000/60000 [==============================] - 5s 82us/sample - loss: 0.1048 - acc: 0.9604\n",
            "Epoch 40/50\n",
            "60000/60000 [==============================] - 5s 82us/sample - loss: 0.1049 - acc: 0.9604\n",
            "Epoch 41/50\n",
            "60000/60000 [==============================] - 5s 81us/sample - loss: 0.1029 - acc: 0.9618\n",
            "Epoch 42/50\n",
            "60000/60000 [==============================] - 5s 84us/sample - loss: 0.1048 - acc: 0.9603\n",
            "Epoch 43/50\n",
            "60000/60000 [==============================] - 5s 83us/sample - loss: 0.0997 - acc: 0.9629\n",
            "Epoch 44/50\n",
            "60000/60000 [==============================] - 5s 79us/sample - loss: 0.0992 - acc: 0.9628\n",
            "Epoch 45/50\n",
            "60000/60000 [==============================] - 5s 79us/sample - loss: 0.0980 - acc: 0.9635\n",
            "Epoch 46/50\n",
            "60000/60000 [==============================] - 5s 77us/sample - loss: 0.0945 - acc: 0.9646\n",
            "Epoch 47/50\n",
            "60000/60000 [==============================] - 5s 80us/sample - loss: 0.0950 - acc: 0.9649\n",
            "Epoch 48/50\n",
            "60000/60000 [==============================] - 5s 78us/sample - loss: 0.0918 - acc: 0.9660\n",
            "Epoch 49/50\n",
            "60000/60000 [==============================] - 4s 72us/sample - loss: 0.0918 - acc: 0.9661\n",
            "Epoch 50/50\n",
            "60000/60000 [==============================] - 4s 72us/sample - loss: 0.0928 - acc: 0.9660\n"
          ],
          "name": "stdout"
        },
        {
          "output_type": "execute_result",
          "data": {
            "text/plain": [
              "<tensorflow.python.keras.callbacks.History at 0x7f4c57a1a198>"
            ]
          },
          "metadata": {
            "tags": []
          },
          "execution_count": 13
        }
      ]
    },
    {
      "cell_type": "markdown",
      "metadata": {
        "id": "UaevVJrqCHrr",
        "colab_type": "text"
      },
      "source": [
        "now we check accuracy of this using unseen data set caled test data"
      ]
    },
    {
      "cell_type": "code",
      "metadata": {
        "id": "KhrQywaYCPq6",
        "colab_type": "code",
        "colab": {
          "base_uri": "https://localhost:8080/",
          "height": 51
        },
        "outputId": "56fc62d9-008f-4680-a996-4d14fd7268fb"
      },
      "source": [
        "model.evaluate(test_images, test_labels)"
      ],
      "execution_count": 14,
      "outputs": [
        {
          "output_type": "stream",
          "text": [
            "10000/10000 [==============================] - 0s 40us/sample - loss: 0.5193 - acc: 0.8822\n"
          ],
          "name": "stdout"
        },
        {
          "output_type": "execute_result",
          "data": {
            "text/plain": [
              "[0.5193244572758675, 0.8822]"
            ]
          },
          "metadata": {
            "tags": []
          },
          "execution_count": 14
        }
      ]
    }
  ]
}